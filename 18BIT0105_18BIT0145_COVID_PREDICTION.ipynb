{
  "nbformat": 4,
  "nbformat_minor": 0,
  "metadata": {
    "colab": {
      "name": "covid_prediction_ensemble.ipynb",
      "provenance": [],
      "collapsed_sections": []
    },
    "kernelspec": {
      "display_name": "Python 3",
      "language": "python",
      "name": "python3"
    },
    "language_info": {
      "codemirror_mode": {
        "name": "ipython",
        "version": 3
      },
      "file_extension": ".py",
      "mimetype": "text/x-python",
      "name": "python",
      "nbconvert_exporter": "python",
      "pygments_lexer": "ipython3",
      "version": "3.7.4"
    }
  },
  "cells": [
    {
      "cell_type": "code",
      "metadata": {
        "id": "RQZQOdI-4Jqv"
      },
      "source": [
        "from google.colab import drive\n",
        "drive.mount('/content/gdrive', force_remount=True)"
      ],
      "execution_count": null,
      "outputs": []
    },
    {
      "cell_type": "code",
      "metadata": {
        "id": "VzYMezr44C28"
      },
      "source": [
        "import tensorflow as tf\n",
        "from tensorflow import keras\n",
        "import os\n",
        "import shutil\n",
        "import numpy as np\n",
        "import matplotlib.pyplot as plt\n",
        "import scipy\n",
        "from scipy import stats\n",
        "from tensorflow.keras.applications.inception_v3 import InceptionV3\n",
        "from tensorflow.keras import layers\n",
        "from tensorflow.keras import Model\n",
        "from tensorflow.keras.optimizers import Adam\n",
        "from keras.callbacks import ModelCheckpoint\n",
        "from tensorflow.keras.layers import Input, Dense, GlobalAveragePooling2D\n",
        "from tensorflow.keras.applications.resnet50 import ResNet50\n",
        "from tensorflow.keras.applications.resnet50 import preprocess_input, decode_predictions\n",
        "from tensorflow.keras.applications import MobileNetV2\n",
        "from keras.preprocessing import image\n",
        "\n",
        "tf.compat.v1.logging.set_verbosity(tf.compat.v1.logging.ERROR)\n",
        "os.environ['TF_CPP_MIN_LOG_LEVEL'] = '2'"
      ],
      "execution_count": null,
      "outputs": []
    },
    {
      "cell_type": "code",
      "metadata": {
        "id": "m7KYqW3YoPTb"
      },
      "source": [
        "#Create Train Dataset\n",
        "train_ds = tf.keras.preprocessing.image_dataset_from_directory(\n",
        "    directory='/content/gdrive/MyDrive/data',\n",
        "    labels='inferred',\n",
        "    label_mode='categorical',\n",
        "    color_mode='rgb',\n",
        "    batch_size=100,\n",
        "    image_size=(224,224),\n",
        "    validation_split=0.2,\n",
        "    seed=123,\n",
        "    subset='training')"
      ],
      "execution_count": null,
      "outputs": []
    },
    {
      "cell_type": "code",
      "metadata": {
        "id": "jwLwPTGZoUit"
      },
      "source": [
        "#Create Test Dataset\n",
        "test_ds = tf.keras.preprocessing.image_dataset_from_directory(\n",
        "    directory='/content/gdrive/MyDrive/data',\n",
        "    labels='inferred',\n",
        "    label_mode='categorical',\n",
        "    color_mode='rgb',\n",
        "    batch_size=100,\n",
        "    image_size=(224,224),\n",
        "    validation_split=0.2,\n",
        "    seed=123,\n",
        "    subset='validation')"
      ],
      "execution_count": null,
      "outputs": []
    },
    {
      "cell_type": "code",
      "metadata": {
        "id": "yRVJHofhUf2h"
      },
      "source": [
        "import matplotlib.image as mpimg\n",
        "import cv2\n",
        "\n",
        "directory = os.listdir('/content/gdrive/MyDrive/data')\n",
        "for each in directory:\n",
        "  plt.figure()\n",
        "  currentFolder = '/content/gdrive/MyDrive/data/' + each\n",
        "  for i, file in enumerate(os.listdir(currentFolder)[:10]):\n",
        "    fullpath = currentFolder + '/' + file\n",
        "    img = mpimg.imread(fullpath)\n",
        "    plt.subplot(2,5,i+1)\n",
        "    plt.title(fullpath.split('/')[5])\n",
        "    plt.axis('off')\n",
        "    plt.imshow(cv2.cvtColor(img, cv2.COLOR_BGR2RGB))"
      ],
      "execution_count": null,
      "outputs": []
    },
    {
      "cell_type": "code",
      "metadata": {
        "id": "iHDh6ux-4C3E"
      },
      "source": [
        "#Inception V3\n",
        "inceptionv3 = InceptionV3(input_shape = (224,224,3), #shape of resized image\n",
        "                                include_top = False,\n",
        "                                weights = None)"
      ],
      "execution_count": null,
      "outputs": []
    },
    {
      "cell_type": "code",
      "metadata": {
        "id": "gNCkiV2Y4C3F"
      },
      "source": [
        "x = inceptionv3.output\n",
        "x = GlobalAveragePooling2D()(x)\n",
        "x = Dense(1024, activation='relu')(x)\n",
        "predictions = Dense(2, activation='softmax')(x)"
      ],
      "execution_count": null,
      "outputs": []
    },
    {
      "cell_type": "code",
      "metadata": {
        "id": "D-BEDepk4C3G"
      },
      "source": [
        "#Create Model 1\n",
        "model1 = Model(inceptionv3.input, outputs=predictions)\n",
        "model1.compile(optimizer='Adam', loss='categorical_crossentropy',\n",
        "               metrics=['acc',\n",
        "                        tf.keras.metrics.Precision(),\n",
        "                        tf.keras.metrics.Recall(),\n",
        "                        tf.keras.metrics.AUC()]\n",
        "               )"
      ],
      "execution_count": null,
      "outputs": []
    },
    {
      "cell_type": "code",
      "metadata": {
        "id": "61owKfUM4C3G"
      },
      "source": [
        "#Show Layers for Model 1\n",
        "for i, layer in enumerate(inceptionv3.layers):\n",
        "   print(i, layer.name)"
      ],
      "execution_count": null,
      "outputs": []
    },
    {
      "cell_type": "code",
      "metadata": {
        "id": "kR8vCRep4C3H"
      },
      "source": [
        "#Fit Model 1\n",
        "history = model1.fit(\n",
        "            train_ds,\n",
        "            validation_data = test_ds,\n",
        "            steps_per_epoch = 5,\n",
        "            epochs = 5,\n",
        "            validation_steps = 5,\n",
        "            verbose = 1)"
      ],
      "execution_count": null,
      "outputs": []
    },
    {
      "cell_type": "code",
      "metadata": {
        "id": "I-V4p2PpgqeQ"
      },
      "source": [
        "# summarize history for accuracy\n",
        "plt.plot(history.history['acc'])\n",
        "plt.plot(history.history['val_acc'])\n",
        "plt.title('model accuracy')\n",
        "plt.ylabel('accuracy')\n",
        "plt.xlabel('epoch')\n",
        "plt.legend(['train', 'test'], loc='upper left')\n",
        "plt.show()\n",
        "# summarize history for loss\n",
        "plt.plot(history.history['loss'])\n",
        "plt.plot(history.history['val_loss'])\n",
        "plt.title('model loss')\n",
        "plt.ylabel('loss')\n",
        "plt.xlabel('epoch')\n",
        "plt.legend(['train', 'test'], loc='upper left')\n",
        "plt.show()\n",
        "#summarize history for auc\n",
        "plt.plot(history.history['auc'])\n",
        "plt.plot(history.history['val_auc'])\n",
        "plt.title('model auc')\n",
        "plt.ylabel('auc')\n",
        "plt.xlabel('epoch')\n",
        "plt.legend(['train', 'test'], loc='upper left')\n",
        "plt.show()"
      ],
      "execution_count": null,
      "outputs": []
    },
    {
      "cell_type": "code",
      "metadata": {
        "id": "_gznbvM6_70t"
      },
      "source": [
        "#Show metrics for Model 1\n",
        "precision = history.history['precision'][4]\n",
        "recall = history.history['recall'][4]\n",
        "f1_score = (2*precision*recall)/(precision + recall)\n",
        "print('precision:',precision)\n",
        "print('recall:',recall)\n",
        "print('F1 score:',f1_score)"
      ],
      "execution_count": null,
      "outputs": []
    },
    {
      "cell_type": "code",
      "metadata": {
        "id": "aV2tGwGk4C3J"
      },
      "source": [
        "#ResNet50\n",
        "resnet50 = ResNet50(input_shape = (224,224,3), #shape of resized image\n",
        "                                include_top = False,\n",
        "                                weights = None)"
      ],
      "execution_count": null,
      "outputs": []
    },
    {
      "cell_type": "code",
      "metadata": {
        "id": "7u9abe3G4C3K"
      },
      "source": [
        "x = resnet50.output\n",
        "x = GlobalAveragePooling2D()(x)\n",
        "x = Dense(1024, activation='relu')(x)\n",
        "predictions = Dense(2, activation='softmax')(x)"
      ],
      "execution_count": null,
      "outputs": []
    },
    {
      "cell_type": "code",
      "metadata": {
        "id": "viJ27D8B4C3K"
      },
      "source": [
        "#Model 2\n",
        "model2 = Model(inputs=resnet50.input, outputs=predictions)\n",
        "model2.compile(optimizer='Adam', loss='binary_crossentropy', \n",
        "               metrics=['acc',\n",
        "                        tf.keras.metrics.Precision(),\n",
        "                        tf.keras.metrics.Recall(),\n",
        "                        tf.keras.metrics.AUC()])"
      ],
      "execution_count": null,
      "outputs": []
    },
    {
      "cell_type": "code",
      "metadata": {
        "id": "cxncfEIp4C3L"
      },
      "source": [
        "#Show Layers for model 2\n",
        "for i, layer in enumerate(resnet50.layers):\n",
        "   print(i, layer.name)"
      ],
      "execution_count": null,
      "outputs": []
    },
    {
      "cell_type": "code",
      "metadata": {
        "id": "81fJ559o4C3L"
      },
      "source": [
        "#Fit Model 2\n",
        "history2 = model2.fit(\n",
        "            train_ds,\n",
        "            validation_data = test_ds,\n",
        "            steps_per_epoch = 5,\n",
        "            epochs = 5,\n",
        "            validation_steps = 5,\n",
        "            verbose = 1)"
      ],
      "execution_count": null,
      "outputs": []
    },
    {
      "cell_type": "code",
      "metadata": {
        "id": "dPicqQPY4C3M"
      },
      "source": [
        "# summarize history for accuracy\n",
        "plt.plot(history2.history['acc'])\n",
        "plt.plot(history2.history['val_acc'])\n",
        "plt.title('model accuracy')\n",
        "plt.ylabel('accuracy')\n",
        "plt.xlabel('epoch')\n",
        "plt.legend(['train', 'test'], loc='upper left')\n",
        "plt.show()\n",
        "# summarize history for loss\n",
        "plt.plot(history2.history['loss'])\n",
        "plt.plot(history2.history['val_loss'])\n",
        "plt.title('model loss')\n",
        "plt.ylabel('loss')\n",
        "plt.xlabel('epoch')\n",
        "plt.legend(['train', 'test'], loc='upper left')\n",
        "plt.show()"
      ],
      "execution_count": null,
      "outputs": []
    },
    {
      "cell_type": "code",
      "metadata": {
        "id": "8sJKwjpY1m9U"
      },
      "source": [
        "#Show metrics for Model 2\n",
        "precision = history2.history['precision_1'][4]\n",
        "recall = history2.history['recall_1'][4]\n",
        "f1_score = (2*precision*recall)/(precision + recall)\n",
        "print('precision:',precision)\n",
        "print('recall:',recall)\n",
        "print('F1 score:',f1_score)"
      ],
      "execution_count": null,
      "outputs": []
    },
    {
      "cell_type": "code",
      "metadata": {
        "id": "j4MonZpx4C3N"
      },
      "source": [
        "# model3 = MobileNetV2\n",
        "mobilenetv2 = MobileNetV2(input_shape = (224,224,3), #shape of resized image\n",
        "                                include_top = False,\n",
        "                                weights = None)"
      ],
      "execution_count": null,
      "outputs": []
    },
    {
      "cell_type": "code",
      "metadata": {
        "id": "LqAkqW9C4C3O"
      },
      "source": [
        "x=mobilenetv2.output\n",
        "x=GlobalAveragePooling2D()(x)\n",
        "x=Dense(1024,activation='relu')(x)\n",
        "x=Dense(1024,activation='relu')(x) \n",
        "x=Dense(512,activation='relu')(x) \n",
        "preds=Dense(2,activation='softmax')(x) \n",
        "\n",
        "model3=Model(inputs=mobilenetv2.input,outputs=preds)"
      ],
      "execution_count": null,
      "outputs": []
    },
    {
      "cell_type": "code",
      "metadata": {
        "id": "IxcCveVm4C3O"
      },
      "source": [
        "#Model 3\n",
        "model3.compile(optimizer='Adam',loss='categorical_crossentropy',\n",
        "               metrics=['acc',\n",
        "                        tf.keras.metrics.Precision(),\n",
        "                        tf.keras.metrics.Recall(),\n",
        "                        tf.keras.metrics.AUC(),\n",
        "                        tf.keras.metrics.TruePositives(),\n",
        "                        tf.keras.metrics.TrueNegatives(),\n",
        "                        tf.keras.metrics.FalsePositives(),\n",
        "                        tf.keras.metrics.FalseNegatives()])"
      ],
      "execution_count": null,
      "outputs": []
    },
    {
      "cell_type": "code",
      "metadata": {
        "id": "HnVqVv7P4C3P"
      },
      "source": [
        "#Show Layers for Model 3\n",
        "for i, layer in enumerate(mobilenetv2.layers):\n",
        "   print(i, layer.name)"
      ],
      "execution_count": null,
      "outputs": []
    },
    {
      "cell_type": "code",
      "metadata": {
        "id": "8OHjTjCk4C3P"
      },
      "source": [
        "#Fit Model 3\n",
        "history3 = model3.fit(\n",
        "            train_ds,\n",
        "            validation_data = test_ds,\n",
        "            steps_per_epoch = 5,\n",
        "            epochs = 5,\n",
        "            validation_steps = 5,\n",
        "            verbose = 1)"
      ],
      "execution_count": null,
      "outputs": []
    },
    {
      "cell_type": "code",
      "metadata": {
        "id": "hcAMun9VDQ4C"
      },
      "source": [
        "print(history3.history['true_positives'])\n",
        "tpr = []\n",
        "fpr = []\n",
        "for i in range(5):\n",
        "  tpr.append((history3.history['true_positives'][i])/(history3.history['true_positives'][i]+history3.history['false_negatives'][i]))\n",
        "  fpr.append((history3.history['false_positives'][i])/(history3.history['false_positives'][i]+history3.history['true_negatives'][i]))\n",
        "plt.plot(tpr,fpr)"
      ],
      "execution_count": null,
      "outputs": []
    },
    {
      "cell_type": "code",
      "metadata": {
        "id": "IE-Vhhai4C3Q"
      },
      "source": [
        "# summarize history for accuracy\n",
        "plt.plot(history3.history['acc'])\n",
        "plt.plot(history3.history['val_acc'])\n",
        "plt.title('model accuracy')\n",
        "plt.ylabel('accuracy')\n",
        "plt.xlabel('epoch')\n",
        "plt.legend(['train', 'test'], loc='upper left')\n",
        "plt.show()\n",
        "# summarize history for loss\n",
        "plt.plot(history3.history['loss'])\n",
        "plt.plot(history3.history['val_loss'])\n",
        "plt.title('model loss')\n",
        "plt.ylabel('loss')\n",
        "plt.xlabel('epoch')\n",
        "plt.legend(['train', 'test'], loc='upper left')\n",
        "plt.show()"
      ],
      "execution_count": null,
      "outputs": []
    },
    {
      "cell_type": "code",
      "metadata": {
        "id": "DLhfuVyu2Dcx"
      },
      "source": [
        "#Show metrics for Model 3\n",
        "precision = history3.history['precision_2'][4]\n",
        "recall = history3.history['recall_2'][4]\n",
        "f1_score = (2*precision*recall)/(precision + recall)\n",
        "print('precision:',precision)\n",
        "print('recall:',recall)\n",
        "print('F1 score:',f1_score)"
      ],
      "execution_count": null,
      "outputs": []
    },
    {
      "cell_type": "code",
      "metadata": {
        "id": "5ccP5PnBmDfM"
      },
      "source": [
        "#Predicting Negative Image\n",
        "models=[]\n",
        "models.append(model1)\n",
        "models.append(model2)\n",
        "models.append(model3)\n",
        "path = '/content/gdrive/MyDrive/data/negative/00a85be6-6eb0-421d-8acf-ff2dc0007e8a.png' \n",
        "img = image.load_img(path, target_size=(224, 224)) #path and size\n",
        "x = image.img_to_array(img)\n",
        "x = np.expand_dims(x, axis=0)\n",
        "\n",
        "images = np.vstack([x])\n",
        "labels = []\n",
        "for m in models:\n",
        "    predicts = np.argmax(m.predict(images), axis=1)\n",
        "    labels.append(predicts)\n",
        "    \n",
        "# Ensemble with voting\n",
        "labels = np.array(labels)\n",
        "labels = np.transpose(labels, (1, 0))\n",
        "labels = scipy.stats.mode(labels, axis=1)[0]\n",
        "labels = np.squeeze(labels)\n",
        "if labels == 0:\n",
        "  print('Covid Negative')\n",
        "else:\n",
        "  print('Covid Positive')\n",
        "plt.imshow(img)"
      ],
      "execution_count": null,
      "outputs": []
    },
    {
      "cell_type": "code",
      "metadata": {
        "id": "x2srLsG8uX0B"
      },
      "source": [
        "#Predicting Positive Image\n",
        "path = '/content/gdrive/MyDrive/data/positive/0a6c60063b4bae4de001caaba306d1_jumbo.jpeg' \n",
        "img = image.load_img(path, target_size=(224, 224)) #path and size\n",
        "x = image.img_to_array(img)\n",
        "x = np.expand_dims(x, axis=0)\n",
        "\n",
        "images = np.vstack([x])\n",
        "labels = []\n",
        "for m in models:\n",
        "    predicts = np.argmax(m.predict(images), axis=1)\n",
        "    labels.append(predicts)\n",
        "    \n",
        "# Ensemble with voting\n",
        "labels = np.array(labels)\n",
        "labels = np.transpose(labels, (1, 0))\n",
        "labels = scipy.stats.mode(labels, axis=1)[0]\n",
        "labels = np.squeeze(labels)\n",
        "if labels == 0:\n",
        "  print('Covid Negative')\n",
        "else:\n",
        "  print('Covid Positive')\n",
        "plt.imshow(img)"
      ],
      "execution_count": null,
      "outputs": []
    },
    {
      "cell_type": "code",
      "metadata": {
        "id": "-p6Y501DQv80"
      },
      "source": [
        "#Predicting Set of Images\n",
        "paths = []\n",
        "\n",
        "for filename in os.listdir('/content/gdrive/MyDrive/data/test'):\n",
        "    if filename.endswith(\"jpg\") or filename.endswith(\"png\"): \n",
        "        paths.append(filename)\n",
        "i = 0\n",
        "for path in paths:\n",
        "  img = image.load_img(path, target_size=(224, 224)) #path and size\n",
        "  x = image.img_to_array(img)\n",
        "  x = np.expand_dims(x, axis=0)\n",
        "  images = np.vstack([x])\n",
        "  labels = []\n",
        "  for m in models:\n",
        "      predicts = np.argmax(m.predict(images), axis=1)\n",
        "      labels.append(predicts)\n",
        "      \n",
        "  # Ensemble with voting\n",
        "  labels = np.array(labels)\n",
        "  labels = np.transpose(labels, (1, 0))\n",
        "  labels = scipy.stats.mode(labels, axis=1)[0]\n",
        "  labels = np.squeeze(labels)\n",
        "  if labels == 0:\n",
        "    print('Covid Negative')\n",
        "  else:\n",
        "    print('Covid Positive')\n",
        "  plt.subplot(2,5,i+1)\n",
        "  plt.title(path.split('/')[5])\n",
        "  plt.axis('off')\n",
        "  plt.imshow(cv2.cvtColor(img, cv2.COLOR_BGR2RGB))\n",
        "  i = (i+1)%6"
      ],
      "execution_count": null,
      "outputs": []
    },
    {
      "cell_type": "code",
      "metadata": {
        "id": "KOMwoeiL9CcL"
      },
      "source": [
        "directory = os.listdir('/content/gdrive/MyDrive/data')\n",
        "test = []\n",
        "x = 0\n",
        "for each in directory:\n",
        "  currentFolder = '/content/gdrive/MyDrive/data/' + each\n",
        "  for i, file in enumerate(os.listdir(currentFolder)[:40]):\n",
        "    fullpath = currentFolder + '/' + file\n",
        "    test.append([fullpath,x])\n",
        "  x=x+1"
      ],
      "execution_count": null,
      "outputs": []
    },
    {
      "cell_type": "code",
      "metadata": {
        "id": "w1utNMMU9MN0"
      },
      "source": [
        "import random\n",
        "random.shuffle(test)"
      ],
      "execution_count": null,
      "outputs": []
    },
    {
      "cell_type": "code",
      "metadata": {
        "id": "SxK2-eLq9SFU"
      },
      "source": [
        "y_label = []\n",
        "for i,j in test:\n",
        "  y_label.append(j)\n",
        "print(y_label)"
      ],
      "execution_count": null,
      "outputs": []
    },
    {
      "cell_type": "code",
      "metadata": {
        "id": "vM0lvMlH9Uys"
      },
      "source": [
        "models=[]\n",
        "models.append(model1)\n",
        "models.append(model2)\n",
        "models.append(model3)"
      ],
      "execution_count": null,
      "outputs": []
    },
    {
      "cell_type": "code",
      "metadata": {
        "id": "bYGeaUAN9Xsn"
      },
      "source": [
        "def ensemble_test(path, models):\n",
        "  img = image.load_img(path, target_size=(224, 224)) #path and size\n",
        "  x = image.img_to_array(img)\n",
        "  x = np.expand_dims(x, axis=0)\n",
        "\n",
        "  images = np.vstack([x])\n",
        "  labels = []\n",
        "  for m in models:\n",
        "      predicts = np.argmax(m.predict(images), axis=1)\n",
        "      labels.append(predicts)\n",
        "      \n",
        "  # Ensemble with voting\n",
        "  labels = np.array(labels)\n",
        "  labels = np.transpose(labels, (1, 0))\n",
        "  labels = scipy.stats.mode(labels, axis=1)[0]\n",
        "  labels = np.squeeze(labels)\n",
        "  return labels"
      ],
      "execution_count": null,
      "outputs": []
    },
    {
      "cell_type": "code",
      "metadata": {
        "id": "hvGwXS7M9bq8"
      },
      "source": [
        "y_predict = []\n",
        "for i,j in test:\n",
        "  y_predict.append(ensemble_test(i, models))"
      ],
      "execution_count": null,
      "outputs": []
    },
    {
      "cell_type": "code",
      "metadata": {
        "id": "iT96s5D79fAF"
      },
      "source": [
        "print(y_predict)"
      ],
      "execution_count": null,
      "outputs": []
    },
    {
      "cell_type": "code",
      "metadata": {
        "id": "C9TFJk-S-D_o"
      },
      "source": [
        "def calc_metric(y_actual, y_hat):\n",
        "    fpr = []\n",
        "    tpr = []\n",
        "    TP = 0\n",
        "    FP = 0\n",
        "    TN = 0\n",
        "    FN = 0\n",
        "\n",
        "    for i in range(len(y_hat)): \n",
        "        if y_actual[i]==y_hat[i]==1:\n",
        "           TP += 1\n",
        "        if y_hat[i]==1 and y_actual[i]!=y_hat[i]:\n",
        "           FP += 1\n",
        "        if y_actual[i]==y_hat[i]==0:\n",
        "           TN += 1\n",
        "        if y_hat[i]==0 and y_actual[i]!=y_hat[i]:\n",
        "           FN += 1\n",
        "        if (FP+TN) != 0:\n",
        "          x = FP/(FP+TN)\n",
        "        else:\n",
        "          x = 0\n",
        "        if (TP+FN) != 0:\n",
        "          y = TP/(TP+FN)\n",
        "        else:\n",
        "          y = 0 \n",
        "        \n",
        "        fpr.append(x)\n",
        "        tpr.append(y)\n",
        "\n",
        "    return(TP, FP, TN, FN, fpr, tpr)"
      ],
      "execution_count": null,
      "outputs": []
    },
    {
      "cell_type": "code",
      "metadata": {
        "id": "-I9bEw-d-bv7"
      },
      "source": [
        "TP, FP, TN, FN, fpr, tpr = calc_metric(y_label, y_predict)"
      ],
      "execution_count": null,
      "outputs": []
    },
    {
      "cell_type": "code",
      "metadata": {
        "id": "SJu5QANb-e8N"
      },
      "source": [
        "correct_label = np.array(y_label) == np.array(y_predict)\n",
        "print(\"Accuracy = %2.2f%%\" % (np.mean(correct_label)*100))"
      ],
      "execution_count": null,
      "outputs": []
    },
    {
      "cell_type": "code",
      "metadata": {
        "id": "cwkVt1w5-hm_"
      },
      "source": [
        "precision = TP / (TP + FP)\n",
        "print(\"Precision: \", precision)"
      ],
      "execution_count": null,
      "outputs": []
    },
    {
      "cell_type": "code",
      "metadata": {
        "id": "c6gdJFGn-noy"
      },
      "source": [
        "import sklearn.metrics as metrics\n",
        "confusion_matrix = metrics.confusion_matrix(y_true=y_label, y_pred=y_predict)\n",
        "print(confusion_matrix)"
      ],
      "execution_count": null,
      "outputs": []
    },
    {
      "cell_type": "code",
      "metadata": {
        "id": "1dVOCpLWAz5V"
      },
      "source": [
        "import seaborn as sn\n",
        "import pandas as pd\n",
        "\n",
        "df_cm = pd.DataFrame(confusion_matrix, index = ['True', 'False'],\n",
        "                  columns = [i for i in ['Positive', 'Negative']])\n",
        "plt.figure(figsize = (2,2))\n",
        "sn.heatmap(df_cm, annot=True)"
      ],
      "execution_count": null,
      "outputs": []
    },
    {
      "cell_type": "code",
      "metadata": {
        "id": "6IPmY6jF_o88"
      },
      "source": [
        "plt.plot(fpr, tpr)\n",
        "plt.title('ROC Curve')\n",
        "plt.show() \n",
        "\n",
        "# This is the AUC\n",
        "auc = np.trapz(tpr,fpr)"
      ],
      "execution_count": null,
      "outputs": []
    },
    {
      "cell_type": "code",
      "metadata": {
        "id": "46Z41gfwB4ew"
      },
      "source": [
        ""
      ],
      "execution_count": null,
      "outputs": []
    }
  ]
}